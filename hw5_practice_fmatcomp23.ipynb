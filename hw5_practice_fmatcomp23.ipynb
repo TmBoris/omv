{
 "cells": [
  {
   "cell_type": "markdown",
   "metadata": {
    "id": "y_wrn5QvK6_0"
   },
   "source": [
    "# ПДЗ-5. Разбиение графа с помощью вектора Фидлера (100 баллов)"
   ]
  },
  {
   "cell_type": "markdown",
   "metadata": {},
   "source": [
    "В этой задаче мы отработаем изученные методы для решения задач на собственные значения на разбиении графов с помощью вектора Фидлера. Сначала мы возьмем модельный граф в виде двумерной решетки, а затем рассмотрим реальный граф социальной сети (последняя часть приведена для примера, в ней будет уже готовый код)."
   ]
  },
  {
   "cell_type": "code",
   "execution_count": null,
   "metadata": {
    "colab": {
     "base_uri": "https://localhost:8080/"
    },
    "id": "un-SboxVK6_2",
    "outputId": "e74702ff-b854-4b64-c27b-cdf9cb369373"
   },
   "outputs": [],
   "source": [
    "!pip3 install networkx pydot"
   ]
  },
  {
   "cell_type": "code",
   "execution_count": null,
   "metadata": {
    "id": "LaBUuQqcK6_4"
   },
   "outputs": [],
   "source": [
    "import numpy as np\n",
    "import numpy.linalg as la\n",
    "import matplotlib.pyplot as plt\n",
    "import scipy.sparse as sp\n",
    "import scipy.linalg\n",
    "import scipy.sparse.linalg as spla\n",
    "import time\n",
    "import networkx as nx\n",
    "%matplotlib inline"
   ]
  },
  {
   "cell_type": "markdown",
   "metadata": {},
   "source": [
    "Для начала мы возьмём модельный граф и проверим нашу идею на нём. Таким графом будет двумерная решётка."
   ]
  },
  {
   "cell_type": "code",
   "execution_count": null,
   "metadata": {},
   "outputs": [],
   "source": [
    "G = nx.grid_2d_graph(10, 10)"
   ]
  },
  {
   "cell_type": "markdown",
   "metadata": {},
   "source": [
    "В дальнейшем нам очень пригодится функция визуализации графа."
   ]
  },
  {
   "cell_type": "code",
   "execution_count": null,
   "metadata": {},
   "outputs": [],
   "source": [
    "def visualize(G, partition=None):\n",
    "    plt.figure(figsize=(10,5))\n",
    "    cm = []\n",
    "    for i, v in enumerate(G):\n",
    "        if partition is not None:\n",
    "            if partition[i] < 0:\n",
    "                cm.append(\"blue\")\n",
    "            else:\n",
    "                cm.append(\"red\")\n",
    "        else:\n",
    "            cm.append(\"gray\")\n",
    "    nx.draw(G, node_color=cm, with_labels=False, pos=nx.drawing.nx_pydot.pydot_layout(G))\n",
    "visualize(G)"
   ]
  },
  {
   "cell_type": "markdown",
   "metadata": {},
   "source": [
    "## Формулировка задачи оптимизации (разбор задачи на семинаре)\n",
    "\n",
    "Разбиение графа на две части мы будем описывать следующим образом: каждой вершине $v \\in V$ поставим в соответствие переменную $x_v \\in \\{-1,1\\}$. Знак $x_v$ будет отвечать компоненте, к которой мы отнесём вершину $v$. Компоненты обозначим $V_{-1}$ и $V_1$ соответственно. Давайте попытаемся минимизировать количество рёбер, соединяющих $V_1$ и $V_{-1}$. В терминах наших переменных $x_v$ эту величину можно записать так:\n",
    "$$\n",
    "\\sum_{\\{u,v\\} \\in E} |x_u - x_v|/2,\n",
    "$$\n",
    "ведь в этой сумме только рёбра, соединяющие вершины разных знаков, дадут ненулевой (точнее, единичный) вклад.\n",
    "С точностью до константы этот функционал может быть записан так:\n",
    "$$\n",
    "J(x) = \\sum_{u \\in V}\\sum_{\\{u,v\\} \\in E}(x_u - x_v)^2\n",
    "$$\n",
    "(здесь $E$ обозначает множество рёбер).\n",
    "Его-то мы и будем минимизировать. (Почему мы взяли квадрат разности вместо модуля? Дальше мы получим непрерывную задачу, а в непрерывных задачах всегда приятно иметь дифференцируемый функционал).\n",
    "\n",
    "Ясно, что без дополнительных условий минимум будет достигаться, например, на $x = e \\equiv [1,\\dots,1]^\\top$. Поэтому мы добавим условие $\\sum_vx_v = 0$ (которое также обеспечивает сбалансированность разбиения).\n",
    "Итак, мы получили дискретную задачу минимизации. Такие задачи очень часто оказываются \"трудными\" в том смысле, что либо полиномиальный алгоритм вообще не известен (и маловероятно, что он вообще существует), либо лучший известный полиномиальный алгоритм имеет запредельно высокую сложность (вроде $O(n^{20})$).\n",
    "По этой причине важным трюком при решении дискретных задач оптимизации является **релаксация**, то есть переход к непрерывной задаче. В нашем случае мы разрешим переменным $x_v$ изменяться в диапазоне $[-1,1]$. Как часто бывает при релаксации, у нас сразу появилось неинтересное тривиальное решение $x = 0$. Чтобы избавиться от него, давайте введём дополнительное условие на нормировку вектора $x$: $\\|x\\|_2 = 1$. В итоге мы получим такую задачу:\n",
    "$$\n",
    "\\min \\left\\{J(x)~:~x\\in\\mathbb{R}^{|V|}, \\|x\\|_2 = 1, e^\\top x = 0\\right\\}.\n",
    "$$\n",
    "\n",
    "Покажем, что функционал можно записать с помощью Лапласиана графа. Для этого раскроем скобки в выражении для $J(x)$ и после упрощения получим\n",
    "$$\n",
    "J(x) = 2\\sum_{u \\in V}\\sum_{\\{u,v\\} \\in E} x_u^2 - 2 \\sum_{u \\in V}\\sum_{\\{u,v\\} \\in E} x_u x_v = 2\\sum_{u\\in V}x_u^2\\deg(v) - 2 \\sum_{u \\in V}\\sum_{\\{u,v\\} \\in E} x_u x_v.\n",
    "$$\n",
    "\n",
    "Обозначим $D$ диагональную матрицу $|V|\\times|V|$, у которой на диагонали стоят степени вершин графа $G$. Также введём матрицу смежности $A$ такого же размера, у которой элемент $a_{uv} = 1 \\Leftrightarrow \\{u,v\\} \\in E$.\n",
    "В терминах этих двух матриц можно просто записать $J(x)$:\n",
    "$$\n",
    "J(x) = 2x^\\top D x - 2x^\\top A x = 2x^\\top (D - A) x.\n",
    "$$\n",
    "Матрица $D-A$ называется [Лапласиан](https://en.wikipedia.org/wiki/Laplacian_matrix). Мы будем обозначать её $L$.\n",
    "Лапласиан является симметричной неотрицательно определённой матрицей, а его младшее собственное значение равно 0 и соответствует вектору $e = [1,\\dots,1]^\\top$. Это следует из того, что\n",
    "$$\n",
    "e^\\top D e - e^\\top A e = \\sum_{u \\in V}\\deg(u) - 2|E| = 0.\n",
    "$$\n",
    "\n",
    "Итак, мы минимизируем выражение $x^\\top Lx$ в пространстве всех векторов длины 1, ортогональных $e$, или, эквивалентно, ищем\n",
    "$$\n",
    "\\min_{x\\perp e, x \\neq 0} R(x),\n",
    "$$\n",
    "где $R(x)$ есть отношение Релея \n",
    "$$\n",
    "\\frac{x^\\top L x}{x^\\top x}.\n",
    "$$\n",
    "\n",
    "По аналогии с тем, что минимум отношения Релея достигается на собственном векторе, соответствующем младшему собственному значению симметричной матрицы, на лекции было показано, что интересующий нас минимум достигается на векторе, соответствующем минимальному ненулевому собственному значению. Этот-то вектор мы и будем искать."
   ]
  },
  {
   "cell_type": "markdown",
   "metadata": {},
   "source": [
    "## 1. Поиск одного собственного значения с помощью степенного метода (60 баллов)"
   ]
  },
  {
   "cell_type": "markdown",
   "metadata": {},
   "source": [
    "### a. Подготовка матрицы"
   ]
  },
  {
   "cell_type": "markdown",
   "metadata": {},
   "source": [
    "Напишем функцию `make_laplacian`, создающую для данного графа Лапласиан $L$ в виде разреженной матрицы в формате CSC. Из библиотеки `networkx` мы используем метод `.degree` класса `nx.Graph`, а также функцию `adjacency_matrix` из `nx.linalg`."
   ]
  },
  {
   "cell_type": "code",
   "execution_count": null,
   "metadata": {},
   "outputs": [],
   "source": [
    "def make_laplacian(G):\n",
    "    \"\"\"\n",
    "        Input\n",
    "            G: networkx.Graph, a graph with n vertices\n",
    "            \n",
    "        Output:\n",
    "            L: n x n sparse matrix, Laplacian of G\n",
    "    \"\"\"\n",
    "    d = G.degree()\n",
    "    degrees = np.array([d[v] for v in G])\n",
    "    D = sp.spdiags(degrees, 0, len(G.nodes), len(G.nodes))\n",
    "    A = nx.linalg.adjacency_matrix(G).astype(np.float64)\n",
    "    return (D - A).tocsc()"
   ]
  },
  {
   "cell_type": "markdown",
   "metadata": {},
   "source": [
    "Сформируем Лапласиан и проверим результат на адекватность."
   ]
  },
  {
   "cell_type": "code",
   "execution_count": null,
   "metadata": {},
   "outputs": [],
   "source": [
    "L = make_laplacian(G)"
   ]
  },
  {
   "cell_type": "code",
   "execution_count": null,
   "metadata": {},
   "outputs": [],
   "source": [
    "assert isinstance(L, sp.csc_matrix)\n",
    "assert L.dtype == np.float64\n",
    "assert L.nnz == 460"
   ]
  },
  {
   "cell_type": "markdown",
   "metadata": {},
   "source": [
    "Проверим, что матрица $L$ является симметричной и $Le = 0$."
   ]
  },
  {
   "cell_type": "code",
   "execution_count": null,
   "metadata": {},
   "outputs": [],
   "source": [
    "assert spla.norm(L - L.T) < 1e-9\n",
    "assert np.allclose(L @ np.ones(L.shape[0]), np.zeros(L.shape[0]))"
   ]
  },
  {
   "cell_type": "markdown",
   "metadata": {},
   "source": [
    "1. (**3 балла**) Перед тем, как начать искать собственные вектора, напишите функцию `rayleigh`, вычисляющую отношение Релея для заданной матрицы $A$ и вектора $x$. Используйте не более одного матрично-векторного произведения."
   ]
  },
  {
   "cell_type": "code",
   "execution_count": null,
   "metadata": {
    "scrolled": true
   },
   "outputs": [],
   "source": [
    "def rayleigh(A, x):\n",
    "    \"\"\"\n",
    "        Input\n",
    "            A: square n x n matrix\n",
    "            x: numpy one-dimensional vector of size n\n",
    "            \n",
    "        Output:\n",
    "            R: rayleigh ratio for A and x\n",
    "    \"\"\"\n",
    "    # YOUR CODE GOES HERE\n",
    "    raise NotImplementedError()"
   ]
  },
  {
   "cell_type": "markdown",
   "metadata": {},
   "source": [
    "2. (**15 баллов**) \n",
    "Пусть $A\\in\\mathbb{R}^{n\\times n}$ -- симметричная матрица с собственным значением $\\lambda$ и соответствующим собственным вектором $v$. Покажите, что\n",
    "$$\n",
    "    |\\lambda - R(x)|  = \\mathcal{O}\\left(\\|v - x\\|_2^2\\right), \\quad x \\to v.\n",
    "$$\n",
    "Решение напишите в ячейке ниже, используя Markdown и LaTex,"
   ]
  },
  {
   "cell_type": "markdown",
   "metadata": {},
   "source": []
  },
  {
   "cell_type": "markdown",
   "metadata": {},
   "source": [
    "### b. Обратная итерация\n",
    "\n",
    "Для того, чтобы отыскать вектор Фидлера, нам потребуется *предпоследнее* по величине собственное значение, поэтому ни степенной метод, ни метод обратной итерации в обычном виде нам не годятся. С одной стороны, мы знаем младшую собственную пару: $(\\lambda, v) = (0, e)$, а поэтому можем использовать **дефляцию**, то есть работать в пространстве, ортогональном $e$. Действие $A$ на этом пространстве уже будет обратимым (если граф связный), а младшим собственным вектором станет уже вектор Фидлера. Теоретически, достаточно спроецировать начальное приближение на $\\{e\\}^\\bot$ - пространство, ортогональное $\\{e\\}$, и дальше итерационный процесс уже не должен выйти из этого подпространства. Но из-за наличия ошибок округления безопаснее перепроецировать текущее приближение перед каждым решением системы $Ax = b$.\n",
    "Для того, чтобы не пытаться считать LU-разложение для вырожденной матрицы, будем работать с матрицей $L + \\alpha I$, где $\\alpha$ &mdash; небольшое положительное число. Тогда собственные векторы не изменятся, а собственные значения сдвинутся на $\\alpha$."
   ]
  },
  {
   "cell_type": "markdown",
   "metadata": {},
   "source": [
    "1. (**5 баллов**) Напишите функцию проецирования на $\\{e\\}^\\bot$. (Дополнительный челлендж: постарайтесь не создавать новые векторы)."
   ]
  },
  {
   "cell_type": "code",
   "execution_count": null,
   "metadata": {},
   "outputs": [],
   "source": [
    "def project(x):\n",
    "    \"\"\"\n",
    "        Input\n",
    "            x: numpy one-dimensional vector\n",
    "            \n",
    "        Output:\n",
    "                                                                    T\n",
    "            x orthoprojected to the subspace orthogonal to [1,...,1]\n",
    "    \"\"\"\n",
    "    # YOUR CODE GOES HERE\n",
    "    raise NotImplementedError()"
   ]
  },
  {
   "cell_type": "markdown",
   "metadata": {},
   "source": [
    "2. (**5 баллов**) Напишите базовый блок для всех методов обратной итерации: функцию `inverse_iteration_step`. Она должна принимать объект `LU` типа `SuperLU` из [scipy.sparse.linalg.splu](https://docs.scipy.org/doc/scipy/reference/generated/scipy.sparse.linalg.splu.html#scipy.sparse.linalg.splu), а также текущее приближение `x_cur`. Функция должна возвращать новое приближение `x_next`. Не забудьте спроецировать вектор `x_cur` на $\\{e\\}^\\bot$ перед решением системы!"
   ]
  },
  {
   "cell_type": "code",
   "execution_count": null,
   "metadata": {},
   "outputs": [],
   "source": [
    "def inverse_iteration_step(LU, x):\n",
    "    \"\"\"\n",
    "        Input\n",
    "            LU: SuperLU object for n x n system Ax = b\n",
    "                                                                                               ⊥\n",
    "            x_cur: numpy array of size n, current approximation to A's minor eigenvector in {e}\n",
    "\n",
    "        Output:\n",
    "            x_next: next approximation\n",
    "    \"\"\"\n",
    "    # YOUR CODE GOES HERE\n",
    "    raise NotImplementedError()"
   ]
  },
  {
   "cell_type": "markdown",
   "metadata": {},
   "source": [
    "3. (**5 баллов**) Также напишите функцию `get_relative_residual`, вычисляющую относительную невязку, то есть\n",
    "$$\n",
    "\\frac{\\|Ax_k - R(x_k)x_k\\|_2}{\\|Ax_k\\|_2}.\n",
    "$$\n",
    "Используйте не более одного матрично-векторного умножения."
   ]
  },
  {
   "cell_type": "code",
   "execution_count": null,
   "metadata": {},
   "outputs": [],
   "source": [
    "def get_relative_residual(A, x):\n",
    "    \"\"\"\n",
    "        Input\n",
    "            A: square n x n matrix\n",
    "            x: numpy array of size n\n",
    "\n",
    "        Output:\n",
    "            relative residual for x\n",
    "    \"\"\"\n",
    "    # YOUR CODE GOES HERE\n",
    "    raise NotImplementedError()"
   ]
  },
  {
   "cell_type": "markdown",
   "metadata": {},
   "source": [
    "4. (**12 баллов**) Напишите функцию `inverse_iteration`, выполняющую обратную итерацию для нахождения предпоследнего по величине собственного вектора симметричной положительно определённой матрицы $A$ в предположении, что младший собственный вектор есть $e$. Используйте `inverse_iteration_step` и `get_relative_residual` внутри основного цикла.\n",
    "Верните найденный собственный вектор, а также список относительных невязок на каждом шаге."
   ]
  },
  {
   "cell_type": "code",
   "execution_count": null,
   "metadata": {},
   "outputs": [],
   "source": [
    "def inverse_iteration(A, tol=1e-8, maxiter=None):\n",
    "    \"\"\"\n",
    "        Input\n",
    "                                                                                   T\n",
    "            A: nondegenerate n x n matrix with minor eigenvector equal to [1,...,1]\n",
    "            tol: tolerance for relative residual\n",
    "            maxiter: if not None, maximal number of iteration to perform\n",
    "\n",
    "        Output:\n",
    "            x: approximation to the second minor eigenvector\n",
    "            residuals: list of relative residuals on each iteration\n",
    "    \"\"\"\n",
    "    # YOUR CODE GOES HERE\n",
    "    raise NotImplementedError()"
   ]
  },
  {
   "cell_type": "markdown",
   "metadata": {},
   "source": [
    "Сделаем sanity check для простой матрицы $3 \\times 3$."
   ]
  },
  {
   "cell_type": "code",
   "execution_count": null,
   "metadata": {},
   "outputs": [],
   "source": [
    "def sanity_check(f):\n",
    "    eig = np.diag([1, 2, 3])\n",
    "    Q = np.array([[1, -1, 1], [1, 0, -2], [1, 1, 1]]) / [np.sqrt(3), np.sqrt(2), np.sqrt(6)]\n",
    "    A = Q @ eig @ Q.T\n",
    "    x, _ = f(A)\n",
    "    assert np.allclose(rayleigh(A, x), 2)\n",
    "sanity_check(inverse_iteration)"
   ]
  },
  {
   "cell_type": "markdown",
   "metadata": {},
   "source": [
    "Визуализируем разбиение, которое предлагает нам вектор Фидлера."
   ]
  },
  {
   "cell_type": "code",
   "execution_count": null,
   "metadata": {},
   "outputs": [],
   "source": [
    "alpha = 1e-8\n",
    "fiedler, _ = inverse_iteration(L + alpha * sp.eye(L.shape[0]))\n",
    "visualize(G, fiedler)"
   ]
  },
  {
   "cell_type": "markdown",
   "metadata": {},
   "source": [
    "Если вы всё написали правильно, наша сетка должна оказаться разрезанной на две примерно равные части примерно прямой линией."
   ]
  },
  {
   "cell_type": "markdown",
   "metadata": {},
   "source": [
    "### c. Обратная итерация со сдвигом\n",
    "\n",
    "Попробуем запустить обратную итерацию и посмотрим, сколько итераций потребуется методу до сходимости."
   ]
  },
  {
   "cell_type": "code",
   "execution_count": null,
   "metadata": {},
   "outputs": [],
   "source": [
    "alpha = 1e-8\n",
    "_, res = inverse_iteration(L + alpha * sp.eye(L.shape[0]))\n",
    "plt.plot(res)\n",
    "_ = plt.semilogy()"
   ]
  },
  {
   "cell_type": "markdown",
   "metadata": {},
   "source": [
    "Предположим, что такое количество итераций нас не устраивает, и мы хотим быстрее. В таком случае стоит применить обратную итерацию со сдвигами. Идея состоит в том, чтобы оценить младшее собственное значение (в пространстве $\\{e\\}^\\bot$, как и раньше) с помощью нескольких (в количестве $\\texttt{inititer}$) обычных итераций, а затем применять обратную итерацию с матрицей $A - \\widetilde{\\lambda} I$, где $\\widetilde{\\lambda} = R(x_{\\texttt{inititer}})$ &mdash; отношение Релея для $\\texttt{inititer}$-ного приближения.\n",
    "\n",
    "1. (**9 баллов**) Напишите функцию `inverse_iteration_with_shift`. Скопировать тело `inverse_iteration` не возбраняется."
   ]
  },
  {
   "cell_type": "code",
   "execution_count": null,
   "metadata": {},
   "outputs": [],
   "source": [
    "def inverse_iteration_with_shift(A, tol=1e-8, inititer=10, maxiter=None):\n",
    "    \"\"\"\n",
    "        Input\n",
    "                                                                                   T\n",
    "            A: nondegenerate n x n matrix with minor eigenvector equal to [1,...,1]\n",
    "            tol: tolerance for relative residual\n",
    "            inititer: number of iterations to permorm to estimate sought eigenvalue\n",
    "            maxiter: if not None, maximal number of iteration to perform\n",
    "\n",
    "        Output:\n",
    "            x: approximation to the second minor eigenvector\n",
    "            residuals: list of relative residuals on each iteration\n",
    "    \"\"\"\n",
    "    # YOUR CODE GOES HERE\n",
    "    raise NotImplementedError()"
   ]
  },
  {
   "cell_type": "markdown",
   "metadata": {},
   "source": [
    "Сделаем уже знакомый нам sanity check."
   ]
  },
  {
   "cell_type": "code",
   "execution_count": null,
   "metadata": {},
   "outputs": [],
   "source": [
    "sanity_check(inverse_iteration_with_shift)"
   ]
  },
  {
   "cell_type": "code",
   "execution_count": null,
   "metadata": {},
   "outputs": [],
   "source": [
    "_, res = inverse_iteration_with_shift(L + alpha * sp.eye(L.shape[0]))\n",
    "plt.plot(res)\n",
    "_ = plt.semilogy()"
   ]
  },
  {
   "cell_type": "markdown",
   "metadata": {},
   "source": [
    "Сходимость должна существенно улучшиться. Причём должен быть отчётливо виден помент перелома после 10-й итерации, когда график начинает активно идти вниз."
   ]
  },
  {
   "cell_type": "markdown",
   "metadata": {},
   "source": [
    "### d. Обратная итерация с адаптивными сдвигами (итерация Релея)"
   ]
  },
  {
   "cell_type": "markdown",
   "metadata": {},
   "source": [
    "А что если довести идею со сдвигом до логического завершения и обновлять сдвиг на каждом шаге? Тогда получится метод с адаптивными сдвигами. Однако часть, где мы получаем начальное приближение с помощью обычной обратной итерации, остаётся неизменной, ведь иначе мы можем сойтись не к тому собственному значению.\n",
    "\n",
    "1. (**6 баллов**) Напишите функцию `inverse_iteration_with_adaptive_shift`. Скопировать тело `inverse_iteration_with_shift` не возбраняется."
   ]
  },
  {
   "cell_type": "code",
   "execution_count": null,
   "metadata": {},
   "outputs": [],
   "source": [
    "def inverse_iteration_with_adaptive_shift(A, tol=1e-8, inititer=10, maxiter=None):\n",
    "    \"\"\"\n",
    "        Input\n",
    "                                                                                   T\n",
    "            A: nondegenerate n x n matrix with minor eigenvector equal to [1,...,1]\n",
    "            tol: tolerance for relative residual\n",
    "            inititer: number of iterations to permorm to estimate sought eigenvalue\n",
    "            maxiter: if not None, maximal number of iteration to perform\n",
    "\n",
    "        Output:\n",
    "            x: approximation to the second minor eigenvector\n",
    "            residuals: list of relative residuals on each iteration\n",
    "    \"\"\"\n",
    "    # YOUR CODE GOES HERE\n",
    "    raise NotImplementedError()"
   ]
  },
  {
   "cell_type": "code",
   "execution_count": null,
   "metadata": {},
   "outputs": [],
   "source": [
    "sanity_check(inverse_iteration_with_adaptive_shift)"
   ]
  },
  {
   "cell_type": "code",
   "execution_count": null,
   "metadata": {},
   "outputs": [],
   "source": [
    "_, res = inverse_iteration_with_adaptive_shift(L + alpha * sp.eye(L.shape[0]))\n",
    "plt.plot(res)\n",
    "_ = plt.semilogy()"
   ]
  },
  {
   "cell_type": "markdown",
   "metadata": {},
   "source": [
    "Как и ожидалось, сходимость здесь ещё быстрее. Однако мы платим за это тем, что перевычисляем LU-разложение на каждом шаге. Можно сравнить время работы всех трёх методов на относительно большом графе, чтобы разница была существенна."
   ]
  },
  {
   "cell_type": "code",
   "execution_count": null,
   "metadata": {},
   "outputs": [],
   "source": [
    "L_large = make_laplacian(nx.grid_2d_graph(300,300))"
   ]
  },
  {
   "cell_type": "code",
   "execution_count": null,
   "metadata": {},
   "outputs": [],
   "source": [
    "%timeit inverse_iteration(L_large + alpha * sp.eye(L_large.shape[0]))"
   ]
  },
  {
   "cell_type": "code",
   "execution_count": null,
   "metadata": {},
   "outputs": [],
   "source": [
    "%timeit inverse_iteration_with_shift(L_large + alpha * sp.eye(L_large.shape[0]))"
   ]
  },
  {
   "cell_type": "code",
   "execution_count": null,
   "metadata": {},
   "outputs": [],
   "source": [
    "%timeit inverse_iteration_with_adaptive_shift(L_large + alpha * sp.eye(L_large.shape[0]))"
   ]
  },
  {
   "cell_type": "markdown",
   "metadata": {},
   "source": [
    "Какой метод оказался быстрее всех в данном случае?"
   ]
  },
  {
   "cell_type": "markdown",
   "metadata": {},
   "source": [
    "## 2. Блочная обратная итерация (40 баллов)\n",
    "\n",
    "Предположим, что мы хотим получить не один собственный вектор, а сразу несколько. Конечно, мы можем находить по одному вектору и применять дефляцию (ортогонализовывать относительно уже найденых собственных векторов). Но эффективнее итерировать одновременно сразу несколько векторов.\n",
    "\n",
    "Поэтому вместо дефляции мы будем использовать блочную обратную итерацию (блочный степенной метод для $A^{-1}$). Для этого начнём со случайной матрицы $X_0 \\in \\mathbb{R}^{n \\times k}$ и будем итерировать следующим образом:\n",
    "$$\n",
    "\\widehat{X}_k = A^{-1}X_{k-1}\n",
    "$$\n",
    "$$\n",
    "X_{k} R_{k} = \\widehat{X}_k,\n",
    "$$\n",
    "где в последнем равенстве $X_kR_k$ есть QR-разложение матрицы $\\widehat{X}_k$.\n",
    "В процессе итераций будем измерять невязку $\\|X_k(X_k^\\top A X_k) - AX_k\\|_F$, а также относительную невязку\n",
    "$$\n",
    "\\frac{\\|X_k(X_k^\\top A X_k) - AX_k\\|_F}{\\|AX_k\\|_F}.\n",
    "$$\n",
    "\n",
    "1. (**18 балла**) Напишите функцию `block_inverse_iteration`, приближенно находящую ортогональный базис подпространства, натянутого на $k$ младших собственных векторов заданной разреженной невырожденной матрицы $A \\in \\mathbb{R}^{n \\times n}$. \n",
    "Остановитесь, когда либо выполните `maxiter` итераций, либо достигнете относительной невязки `tol`. Верните последную матрицу $X_k$ и список относительных невязок на каждой итерации."
   ]
  },
  {
   "cell_type": "code",
   "execution_count": null,
   "metadata": {},
   "outputs": [],
   "source": [
    "def block_inverse_iteration(A, k=6, tol=1e-8, maxiter=None):\n",
    "    \"\"\"\n",
    "        Input\n",
    "            A: nondegenerate n x n matrix\n",
    "            k: dimension of eigenspace to approximate\n",
    "            tol: tolerance for relative residual\n",
    "            maxiter: if not None, maximal number of iteration to perform\n",
    "\n",
    "        Output:\n",
    "            X: n x k matrix, orthogonal basis of the eigenspace of minor k eigenvalues\n",
    "            residuals: list of relative residuals on each iteration\n",
    "    \"\"\"\n",
    "    # YOUR CODE GOES HERE\n",
    "    raise NotImplementedError()"
   ]
  },
  {
   "cell_type": "markdown",
   "metadata": {},
   "source": [
    "Сделаем sanity check для простой матрицы $3 \\times 3$. Для того, чтобы проверить, что полученное подпространство действительно соотвествует младшим собственным значениям, вычислим собственные числа матрицы $X^\\top A X$, они должны оказаться равными 1 и 2."
   ]
  },
  {
   "cell_type": "code",
   "execution_count": null,
   "metadata": {},
   "outputs": [],
   "source": [
    "A = np.diag([1,2,3])\n",
    "X, _ = block_inverse_iteration(A, k=2)\n",
    "eig = la.eig(X.T @ A @ X)[0]\n",
    "assert np.allclose(eig, [1,2])"
   ]
  },
  {
   "cell_type": "markdown",
   "metadata": {},
   "source": [
    "2. (**22 балла**) Для того, чтобы получить собственные векторы, нам необходимо применить метод Релея-Ритца (см. лекцию 17) к полученному базису подпространства. Напишите функцию `rayleigh_ritz`, принимающую симметричную матрицу $A \\in \\mathbb{R}^{n \\times n}$, а также $X\\in\\mathbb{R}^{n\\times k}$ с ортогональными столбцами и возвращающую соответствующую $X$ матрицу из векторов Ритца. "
   ]
  },
  {
   "cell_type": "code",
   "execution_count": null,
   "metadata": {},
   "outputs": [],
   "source": [
    "def rayleigh_ritz(A, X):\n",
    "    \"\"\"\n",
    "        Input\n",
    "            A: nondegenerate n x n matrix\n",
    "            X: n x k matrix, orthogonal basis of the eigenspace of minor k eigenvalues\n",
    "            \n",
    "        Output:\n",
    "            Z: n x k matrix consisting of Ritz vectors\n",
    "    \"\"\"\n",
    "    # YOUR CODE GOES HERE\n",
    "    raise NotImplementedError()"
   ]
  },
  {
   "cell_type": "markdown",
   "metadata": {},
   "source": [
    "Соберём всё вместе."
   ]
  },
  {
   "cell_type": "code",
   "execution_count": null,
   "metadata": {},
   "outputs": [],
   "source": [
    "def block_inverse_iteration_with_RR(A, k=6, tol=1e-6, maxiter=None):\n",
    "    X, residuals = block_inverse_iteration(A, k=k, tol=tol, maxiter=maxiter)\n",
    "    return rayleigh_ritz(A, X), residuals"
   ]
  },
  {
   "cell_type": "markdown",
   "metadata": {},
   "source": [
    "Запустим алгоритм для Лапласиана нашего графа."
   ]
  },
  {
   "cell_type": "code",
   "execution_count": null,
   "metadata": {},
   "outputs": [],
   "source": [
    "X, _ = block_inverse_iteration_with_RR(L)"
   ]
  },
  {
   "cell_type": "markdown",
   "metadata": {},
   "source": [
    "Визуализируем разбиения, которое предлагают нам младшие три собственные вектора (не считая $e$)."
   ]
  },
  {
   "cell_type": "code",
   "execution_count": null,
   "metadata": {
    "scrolled": false
   },
   "outputs": [],
   "source": [
    "visualize(G, X[:,1])"
   ]
  },
  {
   "cell_type": "code",
   "execution_count": null,
   "metadata": {},
   "outputs": [],
   "source": [
    "visualize(G, X[:,2])"
   ]
  },
  {
   "cell_type": "code",
   "execution_count": null,
   "metadata": {},
   "outputs": [],
   "source": [
    "visualize(G, X[:,3])"
   ]
  },
  {
   "cell_type": "markdown",
   "metadata": {},
   "source": [
    "Отсюда видно, например, что векторы, которые мы визуализировали, образуют ортогональную систему. Вот как это неформально увидеть: если наложить любой из трёх рисунков на любой другой, то синие вершины одного разделят синие вершины другого на два примерно равных множества, и то же самое произойдёт и с красными вершинами. Поэтому при взятии скалярного произведения мы получим поровну положительных и отрицательных слагаемых."
   ]
  },
  {
   "cell_type": "markdown",
   "metadata": {},
   "source": [
    "Давайте ещё проверим, чему равны соответствующие собственные значения. Для этого вычислим отношение Релея для них."
   ]
  },
  {
   "cell_type": "code",
   "execution_count": null,
   "metadata": {},
   "outputs": [],
   "source": [
    "rayleigh(L, X[:,1]), rayleigh(L, X[:,2]), rayleigh(L, X[:,3])"
   ]
  },
  {
   "cell_type": "markdown",
   "metadata": {},
   "source": [
    "Это согласуется с интуицией, что отношение Релея для вектора соответствует функционалу для соответствующего разбиения: первые два разбиения дают одинаковое (и минимальное на пространстве векторов, ортогональных $e$) значение функционала. Третий вектор даёт вдвое большее значение, ведь суммарная длина границы между частями вдвое больше, чем в предыдущем случае."
   ]
  },
  {
   "cell_type": "markdown",
   "metadata": {},
   "source": [
    "Замерим время работы на большом графе, чтобы сравнить с подходом с обратной итерацией."
   ]
  },
  {
   "cell_type": "code",
   "execution_count": null,
   "metadata": {},
   "outputs": [],
   "source": [
    "%timeit X1, r1 = block_inverse_iteration_with_RR(L_large, k=2)"
   ]
  },
  {
   "cell_type": "markdown",
   "metadata": {
    "id": "giSU-QJnK6_4"
   },
   "source": [
    "## Граф социальной сети и стратегия вакцинации (без баллов)\n",
    "\n",
    "Для задачи разбиения графов существует следующее [приложение](https://www.researchgate.net/publication/23230691_Finding_a_Better_Immunization_Strategy): мы попробуем разработать эффективную стратегию вакцинации от некоторого вируса. Для этого мы возьмём граф, представляющий некоторые связи между людьми. В идеале это должен быть граф физических контактов, но хорошим приближением может послужить социальный граф из какой-нибудь соцсети. Далее нам надо научиться разбивать этот граф  на отдельные компоненты связности, удаляя некоторые вершины. Это соответствует вакцинации \"удаляемых\" людей, после которой они уже не могут заразиться и заразить товарища. Поэтому болезнь не сможет перекинуться из одной компоненты связности в другую.\n",
    "\n",
    "Рассмотренный выше граф-решётка может соответствовать школьному классу, в котором школьники очень ленивы и общаются только с ближайшими соседями.\n",
    "\n",
    "Давайте возьмём с замечательного сайта [стенфордского проекта SNAP](https://snap.stanford.edu)\n",
    "[граф](https://snap.stanford.edu/data/loc-Gowalla.html) социальной сети [Gowalla](http://www.gowalla.com/). Он не очень большой, но на нём уже будут видны проблемы, с которыми мы можем столкнуться в реальной жизни."
   ]
  },
  {
   "cell_type": "markdown",
   "metadata": {},
   "source": [
    "#### Далее идет готовый код"
   ]
  },
  {
   "cell_type": "code",
   "execution_count": null,
   "metadata": {
    "colab": {
     "base_uri": "https://localhost:8080/"
    },
    "id": "eRXyr3IaK6_4",
    "outputId": "fa299b57-70b4-49e1-b645-5b6064eab2b7"
   },
   "outputs": [],
   "source": [
    "import urllib.request\n",
    "import os.path\n",
    "import gzip\n",
    "    \n",
    "def download_graph(fname):\n",
    "    url = \"https://snap.stanford.edu/data/loc-gowalla_edges.txt.gz\"\n",
    "    print(\"Downloading graph...\")\n",
    "    urllib.request.urlretrieve(url, fname)\n",
    "    print(\"Download complete\")\n",
    "\n",
    "def load_graph():\n",
    "    fname = \"./data/loc-gowalla_edges.txt.gz\"\n",
    "    try:\n",
    "        os.mkdir(\"./data\")\n",
    "    except:\n",
    "        pass\n",
    "    if not os.path.isfile(fname):\n",
    "        download_graph(fname)\n",
    "    with gzip.open(fname, 'rb') as f:\n",
    "        return nx.readwrite.edgelist.read_edgelist(f)\n",
    "\n",
    "G = load_graph()"
   ]
  },
  {
   "cell_type": "markdown",
   "metadata": {},
   "source": [
    "Вы можете попробовать запустить обратную итерацию на соответствующем Лапласиане, но вероятнее всего ничего не выйдет, т.к. LU-разложение получается очень плотным. Придётся использовать метод Ланцоша, реализованный в `scipy.sparse.linalg.eigsh`. И даже он будет работать невыносимо долго на полном Лапласиане, поэтому мы возьмём лишь относительно небольшой подграф."
   ]
  },
  {
   "cell_type": "code",
   "execution_count": null,
   "metadata": {},
   "outputs": [],
   "source": [
    "subG = nx.subgraph(G, map(str, range(20000)))"
   ]
  },
  {
   "cell_type": "code",
   "execution_count": null,
   "metadata": {},
   "outputs": [],
   "source": [
    "L = make_laplacian(G2)\n",
    "eigvals, eigvecs = spla.eigsh(L, k=2, which=\"SM\")"
   ]
  },
  {
   "cell_type": "markdown",
   "metadata": {},
   "source": [
    "# Бонусная часть\n",
    "\n",
    "### a. Сходимость итерации Релея (35 баллов)\n",
    "\n",
    "1. Докажите кубическую сходимости итерации Релея в случае $A = A^\\top \\in\\mathbb{R}^{2\\times 2}$.\n",
    "\n",
    "\n",
    "### b. Сходимость GMRES (65 баллов)\n",
    "\n",
    "1. (**20 баллов**) Пусть матрица $A\\in\\mathbb{R}^{n\\times}$ диагонализуема: $A = S \\Lambda S^{-1}$, $\\Lambda = \\mathrm{diag}(\\lambda_1,\\dots,\\lambda_n)$. Докажите, что для метода GMRES, примененного к системе $Ax = b$, справедлива следующая оценка:\n",
    "$$\n",
    "    \\frac{\\| r_k\\|_2}{\\|r_0\\|_2} \\leq \\mathrm{cond}_2(S)\\inf_{\\substack{p_k:\\\\ p_k(0) = 1}} \\max_{j} |p_k(\\lambda_j)| \n",
    "$$ \n",
    "где $p_k$ -- полином степени не выше, чем $k$.\n",
    "\n",
    "2. (**45 баллов**) Приведите пример матрицы с малым числом обусловленности, но для которой GMRES метод сходится медленно."
   ]
  },
  {
   "cell_type": "code",
   "execution_count": null,
   "metadata": {},
   "outputs": [],
   "source": []
  }
 ],
 "metadata": {
  "colab": {
   "collapsed_sections": [
    "O82dX7lsK7AC",
    "86xZIvq5K7AD",
    "QIfITUJyK7AD"
   ],
   "name": "hw6.ipynb",
   "provenance": [],
   "toc_visible": true
  },
  "kernelspec": {
   "display_name": "Python 3 (ipykernel)",
   "language": "python",
   "name": "python3"
  },
  "language_info": {
   "codemirror_mode": {
    "name": "ipython",
    "version": 3
   },
   "file_extension": ".py",
   "mimetype": "text/x-python",
   "name": "python",
   "nbconvert_exporter": "python",
   "pygments_lexer": "ipython3",
   "version": "3.7.16"
  }
 },
 "nbformat": 4,
 "nbformat_minor": 1
}
